{
 "cells": [
  {
   "cell_type": "markdown",
   "source": [
    "#This Section Will clean and stem the works of an email input"
   ],
   "metadata": {
    "collapsed": false
   }
  },
  {
   "cell_type": "code",
   "execution_count": 1,
   "outputs": [],
   "source": [
    "import os\n",
    "# Data manipulation libarys\n",
    "import numpy as np\n",
    "import pandas as pd\n",
    "import csv\n",
    "import re\n",
    "# Models used to traning\n",
    "from sklearn.model_selection import train_test_split\n",
    "from sklearn.metrics import classification_report, confusion_matrix\n",
    "from sklearn.svm import SVC\n",
    "\n",
    "# Natural Language\n",
    "from nltk.stem import PorterStemmer\n",
    "from nltk.stem import LancasterStemmer\n",
    "from nltk.tokenize import sent_tokenize, word_tokenize\n",
    "\n",
    "porter = PorterStemmer()\n",
    "lancaster=LancasterStemmer()\n",
    "\n",
    "def clean_email(email, hdrs=True):\n",
    "\n",
    "    # if ture remove headers from email\n",
    "    if hdrs:\n",
    "        hdrstart = email.find('\\n\\n')\n",
    "        email = email[hdrstart:]\n",
    "    email = email.lower()\n",
    "\n",
    "    # Removes html tags\n",
    "    rx = re.compile('<[^<>]+>|\\n')\n",
    "    email= rx.sub(' ', email)\n",
    "\n",
    "    # makes any number, number\n",
    "    rx = re.compile('[0-9]+')\n",
    "    email = rx.sub('number ', email)\n",
    "\n",
    "    # Convetrs urls to httpaddr\n",
    "    rx = re.compile('(http|https)://[^\\s]*')\n",
    "    email = rx.sub('httpaddr ', email)\n",
    "\n",
    "    # Converst any email into emailaddr\n",
    "    rx = re.compile('[^\\s]+@[^\\s]+')\n",
    "    email = rx.sub('emailaddr ', email)\n",
    "\n",
    "    # $\n",
    "    rx = re.compile('[$]+')\n",
    "    email = rx.sub('dollar ', email)\n",
    "\n",
    "    # Removes all non alpha numeric\n",
    "    rx = re.compile('[^a-zA-Z0-9 ]')\n",
    "    email = rx.sub('', email)\n",
    "\n",
    "    #Tokenise Email\n",
    "    token_words=word_tokenize(email)\n",
    "    stem_sentence = []\n",
    "    \n",
    "    for word in token_words:\n",
    "        stem_sentence.append(porter.stem(word))\n",
    "        stem_sentence.append(\" \")\n",
    "    return \"\".join(stem_sentence)\n",
    "\n",
    "def vectorise_email(email, hdrs=True):\n",
    "\n",
    "    # Load the dictionary\n",
    "    d = {}\n",
    "    with open('vocab.txt') as f:\n",
    "        for line in f:\n",
    "            (key, val) = line.split()\n",
    "            d[key] = int(val)\n",
    "\n",
    "    vector = np.zeros([1, len(d)], dtype=int)\n",
    "\n",
    "    # Get the stemmed email\n",
    "    email = clean_email(email, hdrs)\n",
    "\n",
    "    # Vectorise the email\n",
    "    for word in email.split():\n",
    "        if word in d:\n",
    "            vector[0, d[word]] = 1\n",
    "    return vector\n",
    "\n",
    "def create_vocab(path, length):\n",
    "    vocab = {}\n",
    "    file_list = os.listdir(path)\n",
    "    # For every file log the stemmed words into vocab with the count\n",
    "    for file in file_list:\n",
    "        f = open(path+'/'+file, 'r')\n",
    "        try:\n",
    "            email = f.read()\n",
    "            cleaned_email = clean_email(email)\n",
    "            for word in cleaned_email.split():\n",
    "                if word in vocab:\n",
    "                    vocab[word] += 1\n",
    "                else:\n",
    "                    vocab[word] = 1\n",
    "            f.close()\n",
    "        except UnicodeDecodeError:\n",
    "            f.close()\n",
    "    # Output the vocab of the desired length into a file\n",
    "    f = open('vocab.txt', 'w')\n",
    "    for i in range(length):\n",
    "        highest_occurance = max(vocab, key=vocab.get)\n",
    "        f.write(highest_occurance+' '+str(i)+'\\n')\n",
    "        del vocab[highest_occurance]\n",
    "    f.close()\n"
   ],
   "metadata": {
    "collapsed": false
   }
  },
  {
   "cell_type": "markdown",
   "source": [
    "## Create Data from emails"
   ],
   "metadata": {
    "collapsed": false
   }
  },
  {
   "cell_type": "code",
   "execution_count": 2,
   "outputs": [],
   "source": [
    "def create_data_file(paths):\n",
    "    spam_paths = paths['spam']\n",
    "    ham_paths = paths['ham']\n",
    "    data_csv = open('vectorized_data.csv', 'w')\n",
    "    writer = csv.writer(data_csv, delimiter=',')\n",
    "    for spam_path in spam_paths:\n",
    "        files = os.listdir(spam_path)\n",
    "        for file in files:\n",
    "            f = open(spam_path+'/'+file, 'r')\n",
    "            try:\n",
    "                email = f.read()\n",
    "                data = vectorise_email(email)\n",
    "                data = np.append(data, 1)\n",
    "                writer.writerow(data)\n",
    "                f.close()\n",
    "            except UnicodeDecodeError:\n",
    "                f.close()\n",
    "    for ham_path in ham_paths:\n",
    "        files = os.listdir(ham_path)\n",
    "        for file in files:\n",
    "            f = open(ham_path+'/'+file, 'r')\n",
    "            try:\n",
    "                email = f.read()\n",
    "                data = vectorise_email(email)\n",
    "                data = np.append(data, 0)\n",
    "                writer.writerow(data)\n",
    "                f.close()\n",
    "            except UnicodeDecodeError:\n",
    "                f.close()\n",
    "    data_csv.close()"
   ],
   "metadata": {
    "collapsed": false
   }
  },
  {
   "cell_type": "markdown",
   "source": [
    "## Function to find model hyper paramaters (NOT FINISHED)"
   ],
   "metadata": {
    "collapsed": false
   }
  },
  {
   "cell_type": "code",
   "execution_count": 3,
   "outputs": [],
   "source": [
    "def find_model_svm():\n",
    "    data = pd.read_csv('vectorized_data.csv', header=None)\n",
    "    X = data.iloc[:, :-1]\n",
    "    y = data.iloc[:, -1]\n",
    "    X_train, X_test, y_train, y_test = train_test_split(X, y, test_size=0.2, random_state=1)\n",
    "    X_train, X_val, y_train, y_val = train_test_split(X_train, y_train, test_size=0.25, random_state=1) # 0.25 x 0.8 = 0.2\n",
    "\n",
    "    svc = SVC(kernel='linear')\n",
    "    svc.fit(X_train, y_train)\n",
    "\n",
    "    y_pred = svc.predict(X_val)\n",
    "    print(\"Validation Data Set\")\n",
    "    print(confusion_matrix(y_val,y_pred))\n",
    "    print(classification_report(y_val,y_pred))\n",
    "    print('\\n\\n\\n')\n",
    "\n",
    "    y_pred_test = svc.predict(X_test)\n",
    "    print(\"Testset Data Set\")\n",
    "    print(confusion_matrix(y_test,y_pred_test))\n",
    "    print(classification_report(y_test,y_pred_test))\n",
    "\n",
    "    return svc"
   ],
   "metadata": {
    "collapsed": false
   }
  },
  {
   "cell_type": "code",
   "execution_count": 4,
   "outputs": [],
   "source": [
    "\n",
    "def predict_spam(svc, email, hdrs=False):\n",
    "    email = vectorise_email(email, hdrs)\n",
    "    email = pd.DataFrame(email)\n",
    "    prediction = int(svc.predict(email))\n",
    "    print(\"The email was predicted:\", prediction, \"(1 is spam, 0 is not spam)\")\n",
    "    return prediction"
   ],
   "metadata": {
    "collapsed": false
   }
  },
  {
   "cell_type": "markdown",
   "source": [
    "# Create A vocab List from spam emails and then create a data set from the vocab list"
   ],
   "metadata": {
    "collapsed": false
   }
  },
  {
   "cell_type": "code",
   "execution_count": 5,
   "outputs": [],
   "source": [
    "path = 'Spam Data/spam' # Paths to spam emails\n",
    "create_vocab(path, 2000) # creates vocab list\n",
    "\n",
    "# Adding paths that have data we are using for the data set\n",
    "options = {'spam': ['Spam Data/spam'],\n",
    "           'ham': ['Spam Data/easy_ham_2',\n",
    "                   'Spam Data/hard_ham']}\n",
    "create_data_file(options)"
   ],
   "metadata": {
    "collapsed": false
   }
  },
  {
   "cell_type": "code",
   "execution_count": 6,
   "outputs": [
    {
     "name": "stdout",
     "output_type": "stream",
     "text": [
      "Validation Data Set\n",
      "[[289  10]\n",
      " [ 11 245]]\n",
      "              precision    recall  f1-score   support\n",
      "\n",
      "           0       0.96      0.97      0.96       299\n",
      "           1       0.96      0.96      0.96       256\n",
      "\n",
      "    accuracy                           0.96       555\n",
      "   macro avg       0.96      0.96      0.96       555\n",
      "weighted avg       0.96      0.96      0.96       555\n",
      "\n",
      "\n",
      "\n",
      "\n",
      "\n",
      "Testset Data Set\n",
      "[[297   7]\n",
      " [ 11 240]]\n",
      "              precision    recall  f1-score   support\n",
      "\n",
      "           0       0.96      0.98      0.97       304\n",
      "           1       0.97      0.96      0.96       251\n",
      "\n",
      "    accuracy                           0.97       555\n",
      "   macro avg       0.97      0.97      0.97       555\n",
      "weighted avg       0.97      0.97      0.97       555\n",
      "\n"
     ]
    }
   ],
   "source": [
    "svc = find_model_svm()"
   ],
   "metadata": {
    "collapsed": false
   }
  },
  {
   "cell_type": "code",
   "execution_count": 7,
   "outputs": [
    {
     "name": "stdout",
     "output_type": "stream",
     "text": [
      "The email was predicted: 1 (1 is spam, 0 is not spam)\n"
     ]
    }
   ],
   "source": [
    "with open('test_email.txt', 'r') as f:\n",
    "    email = f.read()\n",
    "    predict_spam(svc, email)"
   ],
   "metadata": {
    "collapsed": false
   }
  },
  {
   "cell_type": "code",
   "execution_count": 7,
   "outputs": [],
   "source": [],
   "metadata": {
    "collapsed": false
   }
  }
 ],
 "metadata": {
  "kernelspec": {
   "display_name": "Python 3",
   "language": "python",
   "name": "python3"
  },
  "language_info": {
   "codemirror_mode": {
    "name": "ipython",
    "version": 2
   },
   "file_extension": ".py",
   "mimetype": "text/x-python",
   "name": "python",
   "nbconvert_exporter": "python",
   "pygments_lexer": "ipython2",
   "version": "2.7.6"
  }
 },
 "nbformat": 4,
 "nbformat_minor": 0
}
