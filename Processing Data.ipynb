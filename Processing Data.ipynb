{
 "cells": [
  {
   "cell_type": "markdown",
   "source": [
    "#This Section Will clean and stem the works of an email input"
   ],
   "metadata": {
    "collapsed": false
   }
  },
  {
   "cell_type": "code",
   "execution_count": 24,
   "outputs": [],
   "source": [
    "import os\n",
    "import numpy as np\n",
    "import pandas as pd\n",
    "from sklearn.model_selection import train_test_split\n",
    "from sklearn.metrics import classification_report, confusion_matrix\n",
    "from sklearn.svm import SVC\n",
    "import csv\n",
    "import re\n",
    "from nltk.stem import PorterStemmer\n",
    "from nltk.stem import LancasterStemmer\n",
    "from nltk.tokenize import sent_tokenize, word_tokenize\n",
    "porter = PorterStemmer()\n",
    "lancaster=LancasterStemmer()\n",
    "\n",
    "def clean_email(email):\n",
    "    hdrstart = email.find('\\n\\n')\n",
    "    email = email[hdrstart:]\n",
    "    email = email.lower()\n",
    "\n",
    "    rx = re.compile('<[^<>]+>|\\n')\n",
    "    email= rx.sub(' ', email)\n",
    "\n",
    "    rx = re.compile('[0-9]+')\n",
    "    email = rx.sub('number ', email)\n",
    "\n",
    "    rx = re.compile('(http|https)://[^\\s]*')\n",
    "    email = rx.sub('httpaddr ', email)\n",
    "\n",
    "    rx = re.compile('[^\\s]+@[^\\s]+')\n",
    "    email = rx.sub('emailaddr ', email)\n",
    "\n",
    "    rx = re.compile('[$]+')\n",
    "    email = rx.sub('dollar ', email)\n",
    "\n",
    "    rx = re.compile('[^a-zA-Z0-9 ]')\n",
    "    email = rx.sub('', email)\n",
    "    #Tokenise Email\n",
    "    token_words=word_tokenize(email)\n",
    "    stem_sentence = []\n",
    "    \n",
    "    for word in token_words:\n",
    "        stem_sentence.append(porter.stem(word))\n",
    "        stem_sentence.append(\" \")\n",
    "    return \"\".join(stem_sentence)\n",
    "\n",
    "def vectorise_email(email):\n",
    "    d = {}\n",
    "    with open('vocab.txt') as f:\n",
    "        for line in f:\n",
    "            (key, val) = line.split()\n",
    "            d[key] = int(val)\n",
    "\n",
    "    vector = np.zeros([1, len(d)], dtype=int)\n",
    "\n",
    "    email = clean_email(email)\n",
    "\n",
    "    for word in email.split():\n",
    "        if word in d:\n",
    "            vector[0, d[word]] = 1\n",
    "    return vector\n",
    "\n",
    "def create_vocab(path, length=0):\n",
    "    vocab = {}\n",
    "    file_list = os.listdir(path)\n",
    "    for file in file_list:\n",
    "        f = open(path+'/'+file, 'r')\n",
    "        try:\n",
    "            email = f.read()\n",
    "            cleaned_email = clean_email(email)\n",
    "            for word in cleaned_email.split():\n",
    "                if word in vocab:\n",
    "                    vocab[word] += 1\n",
    "                else:\n",
    "                    vocab[word] = 1\n",
    "            f.close()\n",
    "        except UnicodeDecodeError:\n",
    "            f.close()\n",
    "\n",
    "    f = open('vocab.txt', 'w')\n",
    "    for i in range(length):\n",
    "        highest_occurance = max(vocab, key=vocab.get)\n",
    "        f.write(highest_occurance+' '+str(i)+'\\n')\n",
    "        del vocab[highest_occurance]\n",
    "    f.close()\n"
   ],
   "metadata": {
    "collapsed": false
   }
  },
  {
   "cell_type": "markdown",
   "source": [
    "## Create Data from emails"
   ],
   "metadata": {
    "collapsed": false
   }
  },
  {
   "cell_type": "code",
   "execution_count": 2,
   "outputs": [],
   "source": [
    "def create_data_file(paths):\n",
    "    spam_paths = paths['spam']\n",
    "    ham_paths = paths['ham']\n",
    "    data_csv = open('vectorized_data.csv', 'w')\n",
    "    writer = csv.writer(data_csv, delimiter=',')\n",
    "    for spam_path in spam_paths:\n",
    "        files = os.listdir(spam_path)\n",
    "        for file in files:\n",
    "            f = open(spam_path+'/'+file, 'r')\n",
    "            try:\n",
    "                email = f.read()\n",
    "                data = vectorise_email(email)\n",
    "                data = np.append(data, 1)\n",
    "                writer.writerow(data)\n",
    "                f.close()\n",
    "            except UnicodeDecodeError:\n",
    "                f.close()\n",
    "    for ham_path in ham_paths:\n",
    "        files = os.listdir(ham_path)\n",
    "        for file in files:\n",
    "            f = open(ham_path+'/'+file, 'r')\n",
    "            try:\n",
    "                email = f.read()\n",
    "                data = vectorise_email(email)\n",
    "                data = np.append(data, 0)\n",
    "                writer.writerow(data)\n",
    "                f.close()\n",
    "            except UnicodeDecodeError:\n",
    "                f.close()\n",
    "    data_csv.close()"
   ],
   "metadata": {
    "collapsed": false
   }
  },
  {
   "cell_type": "markdown",
   "source": [
    "## Function to find model hyper paramaters (NOT FINISHED)"
   ],
   "metadata": {
    "collapsed": false
   }
  },
  {
   "cell_type": "code",
   "execution_count": 68,
   "outputs": [],
   "source": [
    "def find_model_svm():\n",
    "    data = pd.read_csv('vectorized_data.csv', header=None)\n",
    "    X = data.iloc[:, :-1]\n",
    "    y = data.iloc[:, -1]\n",
    "    X_train, X_test, y_train, y_test = train_test_split(X, y, test_size=0.2, random_state=1)\n",
    "    X_train, X_val, y_train, y_val = train_test_split(X_train, y_train, test_size=0.25, random_state=1) # 0.25 x 0.8 = 0.2\n",
    "\n",
    "    svc = SVC(kernel='linear')\n",
    "    svc.fit(X_train, y_train)\n",
    "\n",
    "    y_pred = svc.predict(X_val)\n",
    "    print(\"Validation Data Set\")\n",
    "    print(confusion_matrix(y_val,y_pred))\n",
    "    print(classification_report(y_val,y_pred))\n",
    "    print('\\n\\n\\n')\n",
    "\n",
    "    y_pred_test = svc.predict(X_test)\n",
    "    print(\"Testset Data Set\")\n",
    "    print(confusion_matrix(y_test,y_pred_test))\n",
    "    print(classification_report(y_test,y_pred_test))\n",
    "\n",
    "    return svc\n",
    "\n",
    "def predict_spam(svc, email):\n",
    "    email = clean_email(email)\n",
    "    email = vectorise_email(email)\n",
    "    email = pd.DataFrame(email)\n",
    "\n",
    "    return svc.predict(email)"
   ],
   "metadata": {
    "collapsed": false
   }
  },
  {
   "cell_type": "markdown",
   "source": [
    "# Create A vocab List from spam emails and then create a data set from the vocab list"
   ],
   "metadata": {
    "collapsed": false
   }
  },
  {
   "cell_type": "code",
   "execution_count": 3,
   "outputs": [],
   "source": [
    "path = 'Spam Data/spam' # Paths to spam emails\n",
    "create_vocab(path, 2000) # creates vocab list\n",
    "\n",
    "# Adding paths that have data we are using for the data set\n",
    "options = {'spam': ['Spam Data/spam'],\n",
    "           'ham': ['Spam Data/easy_ham_2',\n",
    "                   'Spam Data/hard_ham']}\n",
    "create_data_file(options)"
   ],
   "metadata": {
    "collapsed": false
   }
  },
  {
   "cell_type": "code",
   "execution_count": 69,
   "outputs": [
    {
     "name": "stdout",
     "output_type": "stream",
     "text": [
      "Validation Data Set\n",
      "[[289  10]\n",
      " [ 11 245]]\n",
      "              precision    recall  f1-score   support\n",
      "\n",
      "           0       0.96      0.97      0.96       299\n",
      "           1       0.96      0.96      0.96       256\n",
      "\n",
      "    accuracy                           0.96       555\n",
      "   macro avg       0.96      0.96      0.96       555\n",
      "weighted avg       0.96      0.96      0.96       555\n",
      "\n",
      "\n",
      "\n",
      "\n",
      "\n",
      "Testset Data Set\n",
      "[[297   7]\n",
      " [ 11 240]]\n",
      "              precision    recall  f1-score   support\n",
      "\n",
      "           0       0.96      0.98      0.97       304\n",
      "           1       0.97      0.96      0.96       251\n",
      "\n",
      "    accuracy                           0.97       555\n",
      "   macro avg       0.97      0.97      0.97       555\n",
      "weighted avg       0.97      0.97      0.97       555\n",
      "\n",
      "[1 0 1 1 0 0 0 0 1 1 0 0 1 1 1 0 0 0 1 0 1 0 0 1 1 0 1 0 0 1 1 0 0 0 1 1 0\n",
      " 1 0 1 1 1 1 1 1 0 0 0 1 0 0 0 1 0 0 0 1 0 1 0 1 1 0 0 1 1 0 1 0 1 0 1 1 0\n",
      " 1 0 0 0 0 1 1 0 0 1 1 1 0 0 1 0 0 0 1 1 0 1 0 1 1 0 0 0 1 1 1 0 0 0 0 1 1\n",
      " 0 0 1 0 1 1 0 1 1 1 0 0 1 1 1 1 0 1 0 1 0 1 1 1 0 0 1 1 0 1 0 0 0 1 0 0 1\n",
      " 0 0 1 1 0 0 0 0 1 0 1 0 1 0 0 0 1 0 1 1 0 0 1 0 0 0 0 0 0 0 0 1 0 0 1 1 1\n",
      " 1 0 0 0 1 0 0 0 1 0 1 1 1 1 0 1 1 0 0 0 1 1 1 0 0 0 1 1 0 1 0 1 1 0 0 0 0\n",
      " 0 0 0 0 1 0 1 0 0 0 1 0 1 1 0 1 0 0 1 0 1 0 1 1 1 0 1 1 1 1 0 1 1 1 0 1 0\n",
      " 1 1 1 0 1 0 0 1 0 0 0 0 1 0 1 1 0 0 0 0 0 0 1 0 1 0 0 0 0 0 0 0 1 0 0 0 1\n",
      " 0 0 1 0 1 1 0 1 0 1 0 1 1 1 0 1 1 1 1 0 1 0 0 1 0 1 0 1 0 1 0 0 1 0 1 1 1\n",
      " 1 0 1 1 1 1 0 1 0 1 1 1 1 1 0 0 0 1 1 0 0 0 1 0 1 0 0 1 0 1 1 0 0 0 0 1 0\n",
      " 1 0 0 1 1 1 0 1 1 0 1 0 1 1 1 0 1 1 1 0 0 0 0 1 0 1 1 0 0 1 1 0 1 1 0 1 0\n",
      " 0 0 0 1 1 1 0 0 1 1 0 0 1 0 0 0 1 1 1 0 1 0 0 0 0 0 1 0 0 1 0 1 0 1 1 0 0\n",
      " 0 1 0 0 0 0 1 1 1 1 0 1 1 0 1 0 0 0 0 1 1 1 0 1 1 0 0 1 0 0 0 1 0 0 1 1 0\n",
      " 0 0 0 1 1 0 1 1 0 0 0 0 0 0 0 1 0 0 0 1 0 0 0 1 0 0 0 0 0 0 0 0 1 0 0 1 1\n",
      " 0 0 1 0 0 1 0 0 1 0 1 0 0 0 1 1 1 0 1 0 1 0 1 1 1 0 0 0 0 1 1 1 0 1 1 0 1]\n",
      "165     1\n",
      "432     1\n",
      "2104    0\n",
      "683     1\n",
      "2093    0\n",
      "       ..\n",
      "2101    0\n",
      "2315    0\n",
      "870     1\n",
      "2393    0\n",
      "194     1\n",
      "Name: 2000, Length: 555, dtype: int64\n"
     ]
    }
   ],
   "source": [
    "svc = find_model_svm()"
   ],
   "metadata": {
    "collapsed": false
   }
  },
  {
   "cell_type": "code",
   "execution_count": 64,
   "outputs": [],
   "source": [
    "email = \"\"\"From social-admin@linux.ie  Mon Jul 22 19:29:49 2002\n",
    "Return-Path: <social-admin@linux.ie>\n",
    "Delivered-To: yyyy@localhost.netnoteinc.com\n",
    "Received: from localhost (localhost [127.0.0.1])\n",
    "\tby phobos.labs.netnoteinc.com (Postfix) with ESMTP id 8DED4440C8\n",
    "\tfor <jm@localhost>; Mon, 22 Jul 2002 14:29:47 -0400 (EDT)\n",
    "Received: from dogma.slashnull.org [212.17.35.15]\n",
    "\tby localhost with IMAP (fetchmail-5.9.0)\n",
    "\tfor jm@localhost (single-drop); Mon, 22 Jul 2002 19:29:47 +0100 (IST)\n",
    "Received: from webnote.net (mail.webnote.net [193.120.211.219]) by\n",
    "    dogma.slashnull.org (8.11.6/8.11.6) with ESMTP id g6MHQK403338 for\n",
    "    <jm+ilug-social@jmason.org>; Mon, 22 Jul 2002 18:26:20 +0100\n",
    "Received: from lugh.tuatha.org (root@lugh.tuatha.org [194.125.145.45]) by\n",
    "    webnote.net (8.9.3/8.9.3) with ESMTP id SAA24473 for\n",
    "    <jm+ilug-social@jmason.org>; Sat, 20 Jul 2002 18:15:47 +0100\n",
    "Received: from lugh (root@localhost [127.0.0.1]) by lugh.tuatha.org\n",
    "    (8.9.3/8.9.3) with ESMTP id SAA26490; Sat, 20 Jul 2002 18:15:21 +0100\n",
    "Received: from ie.suberic.net (owsla.ie.suberic.net [62.17.162.83]) by\n",
    "    lugh.tuatha.org (8.9.3/8.9.3) with ESMTP id SAA26451 for <social@linux.ie>;\n",
    "    Sat, 20 Jul 2002 18:15:14 +0100\n",
    "X-Authentication-Warning: lugh.tuatha.org: Host owsla.ie.suberic.net\n",
    "    [62.17.162.83] claimed to be ie.suberic.net\n",
    "Received: from owsla.ie.suberic.net (owsla [127.0.0.1]) by ie.suberic.net\n",
    "    (8.11.6/8.11.6) with ESMTP id g6KHFE925191 for <social@linux.ie>;\n",
    "    Sat, 20 Jul 2002 18:15:14 +0100\n",
    "Date: Sat, 20 Jul 2002 18:15:12 +0100\n",
    "To: Rick Moen <rick@linuxmafia.com>\n",
    "Cc: social@linux.ie\n",
    "Subject: Re: [ILUG-Social] Completely silent pc\n",
    "Message-Id: <20020720181512.D23917@ie.suberic.net>\n",
    "References: <Pine.GSO.4.10.10207192318220.27597-100000@matrix>\n",
    "    <20020720051950.GE28205@linuxmafia.com>\n",
    "MIME-Version: 1.0\n",
    "Content-Type: text/plain; charset=us-ascii\n",
    "Content-Disposition: inline\n",
    "User-Agent: Mutt/1.2.5.1i\n",
    "In-Reply-To: <20020720051950.GE28205@linuxmafia.com>; from\n",
    "    rick@linuxmafia.com on Fri, Jul 19, 2002 at 10:19:50PM -0700\n",
    "X-Operating-System: Linux 2.4.18-5 i686\n",
    "X-GPG-Fingerprint: 9C1D 16F4 11F1 6BD2 933C  048D ACC7 9840 89D0 7646\n",
    "From: kevin lyda <kevin+dated+1027617313.021fb5@linux.ie>\n",
    "X-Delivery-Agent: TMDA/0.57\n",
    "Sender: social-admin@linux.ie\n",
    "Errors-To: social-admin@linux.ie\n",
    "X-Mailman-Version: 1.1\n",
    "Precedence: bulk\n",
    "List-Id: Irish Linux Users' Group social events <social.linux.ie>\n",
    "X-Beenthere: social@linux.ie\n",
    "\n",
    "On Fri, Jul 19, 2002 at 10:19:50PM -0700, Rick Moen wrote:\n",
    "> Some people strip down old 486 boxes, take out the hard drive, disable\n",
    "> the fans, and run the thing from just a floppy drive or a CDR you've\n",
    "> burned for the purpose.\n",
    "\n",
    "what about using a pcmcia card and a compaq flash card?  or doing an\n",
    "nfs boot to a server in a noiser part of the house?  (the boiler room\n",
    "or something like that)\n",
    "\n",
    "kevin\n",
    "\n",
    "--\n",
    "kevin@suberic.net     that a believer is happier than a skeptic is no more to\n",
    "fork()'ed on 37058400    the point than the fact that a drunken man is happier\n",
    "meatspace place: home       than a sober one. the happiness of credulity is a\n",
    "http://ie.suberic.net/~kevin   cheap & dangerous quality -- g.b. shaw\n",
    "\n",
    "--\n",
    "Irish Linux Users' Group Social Events: social@linux.ie\n",
    "http://www.linux.ie/mailman/listinfo/social for (un)subscription information.\n",
    "List maintainer: listmaster@linux.ie\n",
    "\n",
    "\n",
    "\"\"\""
   ],
   "metadata": {
    "collapsed": false
   }
  },
  {
   "cell_type": "code",
   "execution_count": 70,
   "outputs": [
    {
     "data": {
      "text/plain": "array([1])"
     },
     "execution_count": 70,
     "metadata": {},
     "output_type": "execute_result"
    }
   ],
   "source": [
    "predict_spam(svc, email)"
   ],
   "metadata": {
    "collapsed": false
   }
  },
  {
   "cell_type": "code",
   "execution_count": null,
   "outputs": [],
   "source": [],
   "metadata": {
    "collapsed": false
   }
  }
 ],
 "metadata": {
  "kernelspec": {
   "display_name": "Python 3",
   "language": "python",
   "name": "python3"
  },
  "language_info": {
   "codemirror_mode": {
    "name": "ipython",
    "version": 2
   },
   "file_extension": ".py",
   "mimetype": "text/x-python",
   "name": "python",
   "nbconvert_exporter": "python",
   "pygments_lexer": "ipython2",
   "version": "2.7.6"
  }
 },
 "nbformat": 4,
 "nbformat_minor": 0
}
